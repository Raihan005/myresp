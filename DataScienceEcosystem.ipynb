{
 "cells": [
  {
   "cell_type": "markdown",
   "id": "a4d3c96b",
   "metadata": {},
   "source": [
    "# Data Science Tools and Ecosystems"
   ]
  },
  {
   "attachments": {},
   "cell_type": "markdown",
   "id": "e043ca26",
   "metadata": {},
   "source": [
    "# Data Science Tools and Ecosystems"
   ]
  },
  {
   "cell_type": "markdown",
   "id": "65e56332",
   "metadata": {},
   "source": [
    "In this notebook, Data Science Tools and Ecosystem are summarized."
   ]
  },
  {
   "cell_type": "markdown",
   "id": "37a91ed3",
   "metadata": {},
   "source": [
    "In this notebook, Data Science Tools and Ecosystem are summarized."
   ]
  },
  {
   "cell_type": "markdown",
   "id": "eaac8195",
   "metadata": {},
   "source": [
    "***Objectives:***\n",
    "- List of popular languages\n",
    "- List of commonly used libraries\n",
    "- List of commonly used open source tools\n",
    "- Evaluating arithmetic operations\n",
    "- Converting 200 minutes to hours"
   ]
  },
  {
   "cell_type": "markdown",
   "id": "4884ddb8",
   "metadata": {},
   "source": [
    "***Objectives:***\n",
    "- List of popular languages\n",
    "- List of commonly used libraries\n",
    "- List of commonly used open source tools\n",
    "- Evaluating arithmetic operations\n",
    "- Converting 200 minutes to hours"
   ]
  },
  {
   "cell_type": "markdown",
   "id": "9e7d3b7e",
   "metadata": {},
   "source": [
    "Some of the popular languages that Data Scientists use are:\n",
    "1. Python\n",
    "2. R\n",
    "3. Scala\n",
    "4. Java"
   ]
  },
  {
   "cell_type": "markdown",
   "id": "772f00e9",
   "metadata": {},
   "source": [
    "Some of the popular languages that Data Scientists use are:\n",
    "1. Python\n",
    "2. R\n",
    "3. Scala\n",
    "4. Java"
   ]
  },
  {
   "cell_type": "markdown",
   "id": "52bd038b",
   "metadata": {},
   "source": [
    "Some of the commonly used libraries used by Data Scientists include:\n",
    "* Numpy\n",
    "* Matplotlib\n",
    "* Scikit-learn\n",
    "* TensorFlow"
   ]
  },
  {
   "cell_type": "markdown",
   "id": "a0582dd9",
   "metadata": {},
   "source": [
    "Some of the commonly used libraries used by Data Scientists include:\n",
    "* Numpy\n",
    "* Matplotlib\n",
    "* Scikit-learn\n",
    "* TensorFlow"
   ]
  },
  {
   "cell_type": "markdown",
   "id": "e1b85c11",
   "metadata": {},
   "source": [
    "|Data Science Tools|\n",
    "|------|\n",
    "|RStudio|\n",
    "|Apache Spark|\n",
    "|Apahce Hadoop|"
   ]
  },
  {
   "cell_type": "markdown",
   "id": "8cc18706",
   "metadata": {},
   "source": [
    "|Data Science Tools|\n",
    "|------|\n",
    "|RStudio|\n",
    "|Apache Spark|\n",
    "|Apahce Hadoop|"
   ]
  },
  {
   "cell_type": "markdown",
   "id": "6316440e",
   "metadata": {},
   "source": [
    "### Below are a few examples of evaluating arithmetic expressions in Python"
   ]
  },
  {
   "cell_type": "markdown",
   "id": "d03f800c",
   "metadata": {},
   "source": [
    "### Below are a few examples of evaluating arithmetic expressions in Python"
   ]
  },
  {
   "cell_type": "code",
   "execution_count": 1,
   "id": "c41ec5a2",
   "metadata": {},
   "outputs": [
    {
     "data": {
      "text/plain": [
       "17"
      ]
     },
     "execution_count": 1,
     "metadata": {},
     "output_type": "execute_result"
    }
   ],
   "source": [
    "#This a simple arithmetic expression to mutiply then add integers\n",
    "(3*4)+5"
   ]
  },
  {
   "cell_type": "code",
   "execution_count": 2,
   "id": "9e2985c6",
   "metadata": {},
   "outputs": [
    {
     "name": "stdout",
     "output_type": "stream",
     "text": [
      "3.3333333333333335\n"
     ]
    }
   ],
   "source": [
    "#This will convert 200 minutes to hours by diving by 60\n",
    "time_min = 200\n",
    "time_hours = time_min / 60\n",
    "print(time_hours)"
   ]
  },
  {
   "cell_type": "markdown",
   "id": "4354f316",
   "metadata": {},
   "source": [
    "## Author\n",
    "Raihan Rasheed"
   ]
  },
  {
   "cell_type": "markdown",
   "id": "8e56e658",
   "metadata": {},
   "source": [
    "## Author\n",
    "Raihan Rasheed"
   ]
  },
  {
   "cell_type": "code",
   "execution_count": null,
   "id": "0ba4310c",
   "metadata": {},
   "outputs": [],
   "source": []
  }
 ],
 "metadata": {
  "kernelspec": {
   "display_name": "Python 3 (ipykernel)",
   "language": "python",
   "name": "python3"
  },
  "language_info": {
   "codemirror_mode": {
    "name": "ipython",
    "version": 3
   },
   "file_extension": ".py",
   "mimetype": "text/x-python",
   "name": "python",
   "nbconvert_exporter": "python",
   "pygments_lexer": "ipython3",
   "version": "3.9.7"
  }
 },
 "nbformat": 4,
 "nbformat_minor": 5
}
